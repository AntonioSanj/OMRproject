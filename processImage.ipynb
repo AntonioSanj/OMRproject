{
 "cells": [
  {
   "cell_type": "code",
   "execution_count": 1,
   "id": "initial_id",
   "metadata": {
    "collapsed": true,
    "ExecuteTime": {
     "end_time": "2024-10-06T10:32:34.989754200Z",
     "start_time": "2024-10-06T10:32:34.448477900Z"
    }
   },
   "outputs": [],
   "source": [
    "import cv2\n",
    "import numpy as np\n",
    "import matplotlib.pyplot as plt\n",
    "\n",
    "# Cargar la imagen\n",
    "image_path = 'sample_image.png'\n",
    "img = cv2.imread(image_path)"
   ]
  },
  {
   "cell_type": "code",
   "execution_count": null,
   "outputs": [],
   "source": [
    "# Convertir a escala de grises\n",
    "gray = cv2.cvtColor(img, cv2.COLOR_BGR2GRAY)"
   ],
   "metadata": {
    "collapsed": false
   },
   "id": "e3c277aac4fa6cfb"
  },
  {
   "cell_type": "code",
   "execution_count": null,
   "outputs": [],
   "source": [
    "# Detectar bordes usando el operador Canny\n",
    "edges = cv2.Canny(gray, 50, 150, apertureSize=3)"
   ],
   "metadata": {
    "collapsed": false
   },
   "id": "4e3f22c24577bdfa"
  },
  {
   "cell_type": "code",
   "execution_count": null,
   "outputs": [],
   "source": [
    "# Detectar líneas horizontales con la Transformada de Hough\n",
    "lines = cv2.HoughLinesP(edges, 1, np.pi / 180, threshold=100, minLineLength=100, maxLineGap=10)"
   ],
   "metadata": {
    "collapsed": false
   },
   "id": "ed98ffc93ddf4cd6"
  },
  {
   "cell_type": "code",
   "execution_count": null,
   "outputs": [],
   "source": [
    "# Dibujar las líneas detectadas\n",
    "if lines is not None:\n",
    "    for line in lines:\n",
    "        x1, y1, x2, y2 = line[0]\n",
    "        # Filtrar sólo las líneas horizontales\n",
    "        if abs(y2 - y1) < 50:  # Condición para líneas horizontales\n",
    "            cv2.line(img, (x1, y1), (x2, y2), (0, 255, 0), 2)"
   ],
   "metadata": {
    "collapsed": false
   },
   "id": "d4119330ac9c5da1"
  },
  {
   "cell_type": "code",
   "execution_count": null,
   "outputs": [],
   "source": [
    "# Mostrar la imagen original con las líneas horizontales detectadas\n",
    "plt.figure(figsize=(10, 10))\n",
    "plt.imshow(cv2.cvtColor(img, cv2.COLOR_BGR2RGB))\n",
    "plt.title('Líneas Horizontales Detectadas')\n",
    "plt.axis('off')\n",
    "plt.show()"
   ],
   "metadata": {
    "collapsed": false
   },
   "id": "a59bb24818d8fdf7"
  }
 ],
 "metadata": {
  "kernelspec": {
   "display_name": "Python 3",
   "language": "python",
   "name": "python3"
  },
  "language_info": {
   "codemirror_mode": {
    "name": "ipython",
    "version": 2
   },
   "file_extension": ".py",
   "mimetype": "text/x-python",
   "name": "python",
   "nbconvert_exporter": "python",
   "pygments_lexer": "ipython2",
   "version": "2.7.6"
  }
 },
 "nbformat": 4,
 "nbformat_minor": 5
}
